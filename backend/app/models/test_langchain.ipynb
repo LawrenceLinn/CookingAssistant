{
 "cells": [
  {
   "cell_type": "code",
   "execution_count": 9,
   "metadata": {},
   "outputs": [
    {
     "ename": "ImportError",
     "evalue": "cannot import name 'NeptuneRdfGraph' from 'langchain_community.graphs' (c:\\ProgramData\\anaconda3\\envs\\langchain\\lib\\site-packages\\langchain_community\\graphs\\__init__.py)",
     "output_type": "error",
     "traceback": [
      "\u001b[1;31m---------------------------------------------------------------------------\u001b[0m",
      "\u001b[1;31mImportError\u001b[0m                               Traceback (most recent call last)",
      "Cell \u001b[1;32mIn[9], line 7\u001b[0m\n\u001b[0;32m      5\u001b[0m \u001b[38;5;28;01mimport\u001b[39;00m \u001b[38;5;21;01mollama\u001b[39;00m\n\u001b[0;32m      6\u001b[0m \u001b[38;5;28;01mfrom\u001b[39;00m \u001b[38;5;21;01mlangchain_core\u001b[39;00m\u001b[38;5;21;01m.\u001b[39;00m\u001b[38;5;21;01mprompts\u001b[39;00m \u001b[38;5;28;01mimport\u001b[39;00m ChatPromptTemplate\n\u001b[1;32m----> 7\u001b[0m \u001b[38;5;28;01mfrom\u001b[39;00m \u001b[38;5;21;01mlangchain\u001b[39;00m\u001b[38;5;21;01m.\u001b[39;00m\u001b[38;5;21;01mmemory\u001b[39;00m \u001b[38;5;28;01mimport\u001b[39;00m ConversationBufferMemory\n",
      "File \u001b[1;32mc:\\ProgramData\\anaconda3\\envs\\langchain\\lib\\site-packages\\langchain\\memory\\__init__.py:55\u001b[0m\n\u001b[0;32m     53\u001b[0m \u001b[38;5;28;01mfrom\u001b[39;00m \u001b[38;5;21;01mlangchain\u001b[39;00m\u001b[38;5;21;01m.\u001b[39;00m\u001b[38;5;21;01mmemory\u001b[39;00m\u001b[38;5;21;01m.\u001b[39;00m\u001b[38;5;21;01mbuffer_window\u001b[39;00m \u001b[38;5;28;01mimport\u001b[39;00m ConversationBufferWindowMemory\n\u001b[0;32m     54\u001b[0m \u001b[38;5;28;01mfrom\u001b[39;00m \u001b[38;5;21;01mlangchain\u001b[39;00m\u001b[38;5;21;01m.\u001b[39;00m\u001b[38;5;21;01mmemory\u001b[39;00m\u001b[38;5;21;01m.\u001b[39;00m\u001b[38;5;21;01mcombined\u001b[39;00m \u001b[38;5;28;01mimport\u001b[39;00m CombinedMemory\n\u001b[1;32m---> 55\u001b[0m \u001b[38;5;28;01mfrom\u001b[39;00m \u001b[38;5;21;01mlangchain\u001b[39;00m\u001b[38;5;21;01m.\u001b[39;00m\u001b[38;5;21;01mmemory\u001b[39;00m\u001b[38;5;21;01m.\u001b[39;00m\u001b[38;5;21;01mentity\u001b[39;00m \u001b[38;5;28;01mimport\u001b[39;00m (\n\u001b[0;32m     56\u001b[0m     ConversationEntityMemory,\n\u001b[0;32m     57\u001b[0m     InMemoryEntityStore,\n\u001b[0;32m     58\u001b[0m     RedisEntityStore,\n\u001b[0;32m     59\u001b[0m     SQLiteEntityStore,\n\u001b[0;32m     60\u001b[0m     UpstashRedisEntityStore,\n\u001b[0;32m     61\u001b[0m )\n\u001b[0;32m     62\u001b[0m \u001b[38;5;28;01mfrom\u001b[39;00m \u001b[38;5;21;01mlangchain\u001b[39;00m\u001b[38;5;21;01m.\u001b[39;00m\u001b[38;5;21;01mmemory\u001b[39;00m\u001b[38;5;21;01m.\u001b[39;00m\u001b[38;5;21;01mkg\u001b[39;00m \u001b[38;5;28;01mimport\u001b[39;00m ConversationKGMemory\n\u001b[0;32m     63\u001b[0m \u001b[38;5;28;01mfrom\u001b[39;00m \u001b[38;5;21;01mlangchain\u001b[39;00m\u001b[38;5;21;01m.\u001b[39;00m\u001b[38;5;21;01mmemory\u001b[39;00m\u001b[38;5;21;01m.\u001b[39;00m\u001b[38;5;21;01mmotorhead_memory\u001b[39;00m \u001b[38;5;28;01mimport\u001b[39;00m MotorheadMemory\n",
      "File \u001b[1;32mc:\\ProgramData\\anaconda3\\envs\\langchain\\lib\\site-packages\\langchain\\memory\\entity.py:12\u001b[0m\n\u001b[0;32m      9\u001b[0m \u001b[38;5;28;01mfrom\u001b[39;00m \u001b[38;5;21;01mlangchain_core\u001b[39;00m\u001b[38;5;21;01m.\u001b[39;00m\u001b[38;5;21;01mprompts\u001b[39;00m \u001b[38;5;28;01mimport\u001b[39;00m BasePromptTemplate\n\u001b[0;32m     10\u001b[0m \u001b[38;5;28;01mfrom\u001b[39;00m \u001b[38;5;21;01mlangchain_core\u001b[39;00m\u001b[38;5;21;01m.\u001b[39;00m\u001b[38;5;21;01mpydantic_v1\u001b[39;00m \u001b[38;5;28;01mimport\u001b[39;00m BaseModel, Field\n\u001b[1;32m---> 12\u001b[0m \u001b[38;5;28;01mfrom\u001b[39;00m \u001b[38;5;21;01mlangchain\u001b[39;00m\u001b[38;5;21;01m.\u001b[39;00m\u001b[38;5;21;01mchains\u001b[39;00m\u001b[38;5;21;01m.\u001b[39;00m\u001b[38;5;21;01mllm\u001b[39;00m \u001b[38;5;28;01mimport\u001b[39;00m LLMChain\n\u001b[0;32m     13\u001b[0m \u001b[38;5;28;01mfrom\u001b[39;00m \u001b[38;5;21;01mlangchain\u001b[39;00m\u001b[38;5;21;01m.\u001b[39;00m\u001b[38;5;21;01mmemory\u001b[39;00m\u001b[38;5;21;01m.\u001b[39;00m\u001b[38;5;21;01mchat_memory\u001b[39;00m \u001b[38;5;28;01mimport\u001b[39;00m BaseChatMemory\n\u001b[0;32m     14\u001b[0m \u001b[38;5;28;01mfrom\u001b[39;00m \u001b[38;5;21;01mlangchain\u001b[39;00m\u001b[38;5;21;01m.\u001b[39;00m\u001b[38;5;21;01mmemory\u001b[39;00m\u001b[38;5;21;01m.\u001b[39;00m\u001b[38;5;21;01mprompt\u001b[39;00m \u001b[38;5;28;01mimport\u001b[39;00m (\n\u001b[0;32m     15\u001b[0m     ENTITY_EXTRACTION_PROMPT,\n\u001b[0;32m     16\u001b[0m     ENTITY_SUMMARIZATION_PROMPT,\n\u001b[0;32m     17\u001b[0m )\n",
      "File \u001b[1;32mc:\\ProgramData\\anaconda3\\envs\\langchain\\lib\\site-packages\\langchain\\chains\\__init__.py:44\u001b[0m\n\u001b[0;32m     42\u001b[0m \u001b[38;5;28;01mfrom\u001b[39;00m \u001b[38;5;21;01mlangchain\u001b[39;00m\u001b[38;5;21;01m.\u001b[39;00m\u001b[38;5;21;01mchains\u001b[39;00m\u001b[38;5;21;01m.\u001b[39;00m\u001b[38;5;21;01mgraph_qa\u001b[39;00m\u001b[38;5;21;01m.\u001b[39;00m\u001b[38;5;21;01mnebulagraph\u001b[39;00m \u001b[38;5;28;01mimport\u001b[39;00m NebulaGraphQAChain\n\u001b[0;32m     43\u001b[0m \u001b[38;5;28;01mfrom\u001b[39;00m \u001b[38;5;21;01mlangchain\u001b[39;00m\u001b[38;5;21;01m.\u001b[39;00m\u001b[38;5;21;01mchains\u001b[39;00m\u001b[38;5;21;01m.\u001b[39;00m\u001b[38;5;21;01mgraph_qa\u001b[39;00m\u001b[38;5;21;01m.\u001b[39;00m\u001b[38;5;21;01mneptune_cypher\u001b[39;00m \u001b[38;5;28;01mimport\u001b[39;00m NeptuneOpenCypherQAChain\n\u001b[1;32m---> 44\u001b[0m \u001b[38;5;28;01mfrom\u001b[39;00m \u001b[38;5;21;01mlangchain\u001b[39;00m\u001b[38;5;21;01m.\u001b[39;00m\u001b[38;5;21;01mchains\u001b[39;00m\u001b[38;5;21;01m.\u001b[39;00m\u001b[38;5;21;01mgraph_qa\u001b[39;00m\u001b[38;5;21;01m.\u001b[39;00m\u001b[38;5;21;01mneptune_sparql\u001b[39;00m \u001b[38;5;28;01mimport\u001b[39;00m NeptuneSparqlQAChain\n\u001b[0;32m     45\u001b[0m \u001b[38;5;28;01mfrom\u001b[39;00m \u001b[38;5;21;01mlangchain\u001b[39;00m\u001b[38;5;21;01m.\u001b[39;00m\u001b[38;5;21;01mchains\u001b[39;00m\u001b[38;5;21;01m.\u001b[39;00m\u001b[38;5;21;01mgraph_qa\u001b[39;00m\u001b[38;5;21;01m.\u001b[39;00m\u001b[38;5;21;01montotext_graphdb\u001b[39;00m \u001b[38;5;28;01mimport\u001b[39;00m OntotextGraphDBQAChain\n\u001b[0;32m     46\u001b[0m \u001b[38;5;28;01mfrom\u001b[39;00m \u001b[38;5;21;01mlangchain\u001b[39;00m\u001b[38;5;21;01m.\u001b[39;00m\u001b[38;5;21;01mchains\u001b[39;00m\u001b[38;5;21;01m.\u001b[39;00m\u001b[38;5;21;01mgraph_qa\u001b[39;00m\u001b[38;5;21;01m.\u001b[39;00m\u001b[38;5;21;01msparql\u001b[39;00m \u001b[38;5;28;01mimport\u001b[39;00m GraphSparqlQAChain\n",
      "File \u001b[1;32mc:\\ProgramData\\anaconda3\\envs\\langchain\\lib\\site-packages\\langchain\\chains\\graph_qa\\neptune_sparql.py:8\u001b[0m\n\u001b[0;32m      4\u001b[0m \u001b[38;5;28;01mfrom\u001b[39;00m \u001b[38;5;21;01m__future__\u001b[39;00m \u001b[38;5;28;01mimport\u001b[39;00m annotations\n\u001b[0;32m      6\u001b[0m \u001b[38;5;28;01mfrom\u001b[39;00m \u001b[38;5;21;01mtyping\u001b[39;00m \u001b[38;5;28;01mimport\u001b[39;00m Any, Dict, List, Optional\n\u001b[1;32m----> 8\u001b[0m \u001b[38;5;28;01mfrom\u001b[39;00m \u001b[38;5;21;01mlangchain_community\u001b[39;00m\u001b[38;5;21;01m.\u001b[39;00m\u001b[38;5;21;01mgraphs\u001b[39;00m \u001b[38;5;28;01mimport\u001b[39;00m NeptuneRdfGraph\n\u001b[0;32m      9\u001b[0m \u001b[38;5;28;01mfrom\u001b[39;00m \u001b[38;5;21;01mlangchain_core\u001b[39;00m\u001b[38;5;21;01m.\u001b[39;00m\u001b[38;5;21;01mlanguage_models\u001b[39;00m \u001b[38;5;28;01mimport\u001b[39;00m BaseLanguageModel\n\u001b[0;32m     10\u001b[0m \u001b[38;5;28;01mfrom\u001b[39;00m \u001b[38;5;21;01mlangchain_core\u001b[39;00m\u001b[38;5;21;01m.\u001b[39;00m\u001b[38;5;21;01mprompts\u001b[39;00m\u001b[38;5;21;01m.\u001b[39;00m\u001b[38;5;21;01mbase\u001b[39;00m \u001b[38;5;28;01mimport\u001b[39;00m BasePromptTemplate\n",
      "\u001b[1;31mImportError\u001b[0m: cannot import name 'NeptuneRdfGraph' from 'langchain_community.graphs' (c:\\ProgramData\\anaconda3\\envs\\langchain\\lib\\site-packages\\langchain_community\\graphs\\__init__.py)"
     ]
    }
   ],
   "source": [
    "from transformers import AutoProcessor, LlavaForConditionalGeneration\n",
    "from langchain_core.output_parsers import StrOutputParser\n",
    "from langchain_core.prompts import ChatPromptTemplate\n",
    "from langchain_community.llms import Ollama\n",
    "import ollama\n",
    "from langchain_core.prompts import ChatPromptTemplate\n",
    "from langchain.memory import ConversationBufferMemory"
   ]
  },
  {
   "cell_type": "code",
   "execution_count": null,
   "metadata": {},
   "outputs": [],
   "source": [
    "memory = ConversationBufferMemory(memory_key=\"chat_history\")\n",
    "memory.chat_memory.add_user_message(\"hi!\")\n",
    "memory.chat_memory.add_ai_message(\"what's up?\")"
   ]
  },
  {
   "cell_type": "code",
   "execution_count": null,
   "metadata": {},
   "outputs": [],
   "source": [
    "\"\"\"\n",
    "(system, )\n",
    "\"\"\""
   ]
  },
  {
   "cell_type": "code",
   "execution_count": 2,
   "metadata": {},
   "outputs": [],
   "source": [
    "def load_model():\n",
    "    model = Ollama(model=\"llama2\")\n",
    "\n",
    "    return model"
   ]
  },
  {
   "cell_type": "code",
   "execution_count": 3,
   "metadata": {},
   "outputs": [],
   "source": [
    "model = load_model()"
   ]
  },
  {
   "cell_type": "code",
   "execution_count": 15,
   "metadata": {},
   "outputs": [],
   "source": [
    "prompt = [(\"system\", \"You are a gourmet and chef, skilled in the preparation and techniques of various regional cuisines. Your role is to suggest dishes that I would most likely enjoy based on the ingredients and specific requirements I provide. You will offer complete recipes, list additional ingredients I need to purchase, and provide relevant cooking tips and precautions.\"),\n",
    "          (\"assistant\", \"I have a craving for a dish that includes the following ingredients: chicken, tomatoes, onions, garlic, and bell peppers.\")]\n",
    "user_input = \"I am allergic to dairy and gluten.\"\n",
    "prompt.append((\"human\", user_input))\n",
    "output = model.invoke(prompt)\n",
    "print(output)\n",
    "prompt.append((\"assistant\", output))"
   ]
  },
  {
   "cell_type": "code",
   "execution_count": 16,
   "metadata": {},
   "outputs": [
    {
     "name": "stdout",
     "output_type": "stream",
     "text": [
      "Great, I'm glad you like the ingredients! Here's a complete recipe for Chicken and Vegetable Stir-Fry with Gluten-Free Soy Sauce that meets your requirements:\n",
      "\n",
      "Ingredients:\n",
      "\n",
      "* 1 lb boneless, skinless chicken breast or thighs, cut into bite-sized pieces\n",
      "* 2 medium tomatoes, diced\n",
      "* 1 medium onion, thinly sliced\n",
      "* 3 cloves garlic, minced\n",
      "* 1 bell pepper, diced\n",
      "* Gluten-free soy sauce (or tamari) - about 2 tablespoons\n",
      "* Cooking oil (such as vegetable or canola oil) - about 2 tablespoons\n",
      "* Salt and pepper to taste\n",
      "* Optional: sesame oil, sugar, rice vinegar, or other seasonings of your choice\n",
      "\n",
      "Instructions:\n",
      "\n",
      "1. Heat the cooking oil in a large skillet or wok over medium-high heat. Add the chicken and cook until browned on all sides and cooked through (about 5-7 minutes). Remove from the pan and set aside.\n",
      "2. Add the diced tomatoes, onions, and bell peppers to the same pan. Cook for about 3-4 minutes or until they start to soften.\n",
      "3. Add the minced garlic and cook for another minute, stirring constantly.\n",
      "4. Return the chicken to the pan and pour in the gluten-free soy sauce (or tamari). Stir everything together and cook for about 2-3 minutes or until the chicken is coated in the sauce and the vegetables are tender.\n",
      "5. Season with salt, pepper, and any other desired seasonings. If using sesame oil, add it during this step for extra flavor.\n",
      "6. Serve immediately over rice or noodles (if you prefer) and enjoy!\n",
      "\n",
      "Additional Tips:\n",
      "\n",
      "* Make sure to cook the chicken and vegetables separately before combining them in the pan to avoid cross-contamination of allergens.\n",
      "* If you're using a non-stick pan, you may need to adjust the heat to avoid overcooking or burning the food.\n",
      "* Don't be afraid to experiment with different seasonings and spices to create your own unique flavor profile!\n",
      "\n",
      "I hope this recipe helps you satisfy your craving for a delicious and safe meal!\n"
     ]
    }
   ],
   "source": [
    "prompt.append((\"ai\", output))\n",
    "output = model.invoke(prompt)\n",
    "print(output)"
   ]
  },
  {
   "cell_type": "code",
   "execution_count": null,
   "metadata": {},
   "outputs": [],
   "source": []
  }
 ],
 "metadata": {
  "kernelspec": {
   "display_name": "langchain",
   "language": "python",
   "name": "python3"
  },
  "language_info": {
   "codemirror_mode": {
    "name": "ipython",
    "version": 3
   },
   "file_extension": ".py",
   "mimetype": "text/x-python",
   "name": "python",
   "nbconvert_exporter": "python",
   "pygments_lexer": "ipython3",
   "version": "3.10.13"
  }
 },
 "nbformat": 4,
 "nbformat_minor": 2
}
