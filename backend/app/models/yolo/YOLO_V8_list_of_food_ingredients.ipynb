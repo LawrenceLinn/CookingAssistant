{
  "nbformat": 4,
  "nbformat_minor": 0,
  "metadata": {
    "colab": {
      "provenance": []
    },
    "kernelspec": {
      "name": "python3",
      "display_name": "Python 3"
    },
    "language_info": {
      "name": "python"
    }
  },
  "cells": [
    {
      "cell_type": "code",
      "execution_count": null,
      "metadata": {
        "id": "6ryq50SQLaVM"
      },
      "outputs": [],
      "source": [
        "!pip install ultralytics==8.0.196\n",
        "import ultralytics\n",
        "from ultralytics import YOLO\n",
        "\n",
        "def detect_food_ingredients(image_path):\n",
        "    # Load the YOLO model\n",
        "    model = YOLO('/content/best_weight_100.pt')\n",
        "\n",
        "    # Perform detection\n",
        "    results = model(image_path)\n",
        "    result = results[0]\n",
        "\n",
        "    # Access class labels for each detection\n",
        "    class_ids = result.boxes.cls.cpu().numpy()  # Convert to numpy array if not already\n",
        "    detected_labels = [result.names[int(class_id)] for class_id in class_ids]\n",
        "\n",
        "    # Convert the list of labels to a set to remove duplicates, then back to a list\n",
        "    unique_labels = list(set(detected_labels))\n",
        "\n",
        "    return unique_labels\n",
        "\n",
        "# # Example usage\n",
        "# image_path = '/content/image.jpg'\n",
        "# detected_labels = detect_food_ingredients(image_path)\n",
        "# print(detected_labels)"
      ]
    },
    {
      "cell_type": "code",
      "source": [],
      "metadata": {
        "id": "ouXX4SveMrc6"
      },
      "execution_count": 4,
      "outputs": []
    }
  ]
}